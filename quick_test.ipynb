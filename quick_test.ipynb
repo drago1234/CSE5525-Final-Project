{
 "metadata": {
  "language_info": {
   "codemirror_mode": {
    "name": "ipython",
    "version": 3
   },
   "file_extension": ".py",
   "mimetype": "text/x-python",
   "name": "python",
   "nbconvert_exporter": "python",
   "pygments_lexer": "ipython3",
   "version": "3.8.3-final"
  },
  "orig_nbformat": 2,
  "kernelspec": {
   "name": "python3",
   "display_name": "Python 3"
  }
 },
 "nbformat": 4,
 "nbformat_minor": 2,
 "cells": [
  {
   "cell_type": "code",
   "execution_count": 1,
   "metadata": {},
   "outputs": [],
   "source": [
    "from argparse import ArgumentParser, ArgumentDefaultsHelpFormatter\n",
    "import pandas as pd\n",
    "import numpy as np\n",
    "import json\n",
    "import ast\n",
    "from sklearn.model_selection import train_test_split\n",
    "\n",
    "from utils import Indexer\n",
    "\n",
    "from tqdm import tqdm"
   ]
  },
  {
   "cell_type": "code",
   "execution_count": 2,
   "metadata": {},
   "outputs": [],
   "source": [
    "links = 'data/links.csv'\n",
    "metadata = 'data/movies_metadata.csv'\n",
    "credit = 'data/credits.csv'\n",
    "rating = 'data/ratings.csv'\n",
    "\n",
    "train_dir = 'processed_data/rating_train.csv'\n",
    "test_dir = 'processed_data/rating_test.csv'\n",
    "\n",
    "overview = 'processed_data/overviews.csv'\n",
    "\n"
   ]
  },
  {
   "cell_type": "code",
   "execution_count": 12,
   "metadata": {},
   "outputs": [
    {
     "output_type": "execute_result",
     "data": {
      "text/plain": [
       "   adult                              belongs_to_collection    budget  \\\n",
       "0  False  {'id': 10194, 'name': 'Toy Story Collection', ...  30000000   \n",
       "1  False                                                NaN  65000000   \n",
       "2  False  {'id': 119050, 'name': 'Grumpy Old Men Collect...         0   \n",
       "3  False                                                NaN  16000000   \n",
       "4  False  {'id': 96871, 'name': 'Father of the Bride Col...         0   \n",
       "\n",
       "                                              genres  \\\n",
       "0  [{'id': 16, 'name': 'Animation'}, {'id': 35, '...   \n",
       "1  [{'id': 12, 'name': 'Adventure'}, {'id': 14, '...   \n",
       "2  [{'id': 10749, 'name': 'Romance'}, {'id': 35, ...   \n",
       "3  [{'id': 35, 'name': 'Comedy'}, {'id': 18, 'nam...   \n",
       "4                     [{'id': 35, 'name': 'Comedy'}]   \n",
       "\n",
       "                               homepage     id    imdb_id original_language  \\\n",
       "0  http://toystory.disney.com/toy-story    862  tt0114709                en   \n",
       "1                                   NaN   8844  tt0113497                en   \n",
       "2                                   NaN  15602  tt0113228                en   \n",
       "3                                   NaN  31357  tt0114885                en   \n",
       "4                                   NaN  11862  tt0113041                en   \n",
       "\n",
       "                original_title  \\\n",
       "0                    Toy Story   \n",
       "1                      Jumanji   \n",
       "2             Grumpier Old Men   \n",
       "3            Waiting to Exhale   \n",
       "4  Father of the Bride Part II   \n",
       "\n",
       "                                            overview  ... release_date  \\\n",
       "0  Led by Woody, Andy's toys live happily in his ...  ...   1995-10-30   \n",
       "1  When siblings Judy and Peter discover an encha...  ...   1995-12-15   \n",
       "2  A family wedding reignites the ancient feud be...  ...   1995-12-22   \n",
       "3  Cheated on, mistreated and stepped on, the wom...  ...   1995-12-22   \n",
       "4  Just when George Banks has recovered from his ...  ...   1995-02-10   \n",
       "\n",
       "       revenue runtime                                   spoken_languages  \\\n",
       "0  373554033.0    81.0           [{'iso_639_1': 'en', 'name': 'English'}]   \n",
       "1  262797249.0   104.0  [{'iso_639_1': 'en', 'name': 'English'}, {'iso...   \n",
       "2          0.0   101.0           [{'iso_639_1': 'en', 'name': 'English'}]   \n",
       "3   81452156.0   127.0           [{'iso_639_1': 'en', 'name': 'English'}]   \n",
       "4   76578911.0   106.0           [{'iso_639_1': 'en', 'name': 'English'}]   \n",
       "\n",
       "     status                                            tagline  \\\n",
       "0  Released                                                NaN   \n",
       "1  Released          Roll the dice and unleash the excitement!   \n",
       "2  Released  Still Yelling. Still Fighting. Still Ready for...   \n",
       "3  Released  Friends are the people who let you be yourself...   \n",
       "4  Released  Just When His World Is Back To Normal... He's ...   \n",
       "\n",
       "                         title  video vote_average vote_count  \n",
       "0                    Toy Story  False          7.7     5415.0  \n",
       "1                      Jumanji  False          6.9     2413.0  \n",
       "2             Grumpier Old Men  False          6.5       92.0  \n",
       "3            Waiting to Exhale  False          6.1       34.0  \n",
       "4  Father of the Bride Part II  False          5.7      173.0  \n",
       "\n",
       "[5 rows x 24 columns]"
      ],
      "text/html": "<div>\n<style scoped>\n    .dataframe tbody tr th:only-of-type {\n        vertical-align: middle;\n    }\n\n    .dataframe tbody tr th {\n        vertical-align: top;\n    }\n\n    .dataframe thead th {\n        text-align: right;\n    }\n</style>\n<table border=\"1\" class=\"dataframe\">\n  <thead>\n    <tr style=\"text-align: right;\">\n      <th></th>\n      <th>adult</th>\n      <th>belongs_to_collection</th>\n      <th>budget</th>\n      <th>genres</th>\n      <th>homepage</th>\n      <th>id</th>\n      <th>imdb_id</th>\n      <th>original_language</th>\n      <th>original_title</th>\n      <th>overview</th>\n      <th>...</th>\n      <th>release_date</th>\n      <th>revenue</th>\n      <th>runtime</th>\n      <th>spoken_languages</th>\n      <th>status</th>\n      <th>tagline</th>\n      <th>title</th>\n      <th>video</th>\n      <th>vote_average</th>\n      <th>vote_count</th>\n    </tr>\n  </thead>\n  <tbody>\n    <tr>\n      <th>0</th>\n      <td>False</td>\n      <td>{'id': 10194, 'name': 'Toy Story Collection', ...</td>\n      <td>30000000</td>\n      <td>[{'id': 16, 'name': 'Animation'}, {'id': 35, '...</td>\n      <td>http://toystory.disney.com/toy-story</td>\n      <td>862</td>\n      <td>tt0114709</td>\n      <td>en</td>\n      <td>Toy Story</td>\n      <td>Led by Woody, Andy's toys live happily in his ...</td>\n      <td>...</td>\n      <td>1995-10-30</td>\n      <td>373554033.0</td>\n      <td>81.0</td>\n      <td>[{'iso_639_1': 'en', 'name': 'English'}]</td>\n      <td>Released</td>\n      <td>NaN</td>\n      <td>Toy Story</td>\n      <td>False</td>\n      <td>7.7</td>\n      <td>5415.0</td>\n    </tr>\n    <tr>\n      <th>1</th>\n      <td>False</td>\n      <td>NaN</td>\n      <td>65000000</td>\n      <td>[{'id': 12, 'name': 'Adventure'}, {'id': 14, '...</td>\n      <td>NaN</td>\n      <td>8844</td>\n      <td>tt0113497</td>\n      <td>en</td>\n      <td>Jumanji</td>\n      <td>When siblings Judy and Peter discover an encha...</td>\n      <td>...</td>\n      <td>1995-12-15</td>\n      <td>262797249.0</td>\n      <td>104.0</td>\n      <td>[{'iso_639_1': 'en', 'name': 'English'}, {'iso...</td>\n      <td>Released</td>\n      <td>Roll the dice and unleash the excitement!</td>\n      <td>Jumanji</td>\n      <td>False</td>\n      <td>6.9</td>\n      <td>2413.0</td>\n    </tr>\n    <tr>\n      <th>2</th>\n      <td>False</td>\n      <td>{'id': 119050, 'name': 'Grumpy Old Men Collect...</td>\n      <td>0</td>\n      <td>[{'id': 10749, 'name': 'Romance'}, {'id': 35, ...</td>\n      <td>NaN</td>\n      <td>15602</td>\n      <td>tt0113228</td>\n      <td>en</td>\n      <td>Grumpier Old Men</td>\n      <td>A family wedding reignites the ancient feud be...</td>\n      <td>...</td>\n      <td>1995-12-22</td>\n      <td>0.0</td>\n      <td>101.0</td>\n      <td>[{'iso_639_1': 'en', 'name': 'English'}]</td>\n      <td>Released</td>\n      <td>Still Yelling. Still Fighting. Still Ready for...</td>\n      <td>Grumpier Old Men</td>\n      <td>False</td>\n      <td>6.5</td>\n      <td>92.0</td>\n    </tr>\n    <tr>\n      <th>3</th>\n      <td>False</td>\n      <td>NaN</td>\n      <td>16000000</td>\n      <td>[{'id': 35, 'name': 'Comedy'}, {'id': 18, 'nam...</td>\n      <td>NaN</td>\n      <td>31357</td>\n      <td>tt0114885</td>\n      <td>en</td>\n      <td>Waiting to Exhale</td>\n      <td>Cheated on, mistreated and stepped on, the wom...</td>\n      <td>...</td>\n      <td>1995-12-22</td>\n      <td>81452156.0</td>\n      <td>127.0</td>\n      <td>[{'iso_639_1': 'en', 'name': 'English'}]</td>\n      <td>Released</td>\n      <td>Friends are the people who let you be yourself...</td>\n      <td>Waiting to Exhale</td>\n      <td>False</td>\n      <td>6.1</td>\n      <td>34.0</td>\n    </tr>\n    <tr>\n      <th>4</th>\n      <td>False</td>\n      <td>{'id': 96871, 'name': 'Father of the Bride Col...</td>\n      <td>0</td>\n      <td>[{'id': 35, 'name': 'Comedy'}]</td>\n      <td>NaN</td>\n      <td>11862</td>\n      <td>tt0113041</td>\n      <td>en</td>\n      <td>Father of the Bride Part II</td>\n      <td>Just when George Banks has recovered from his ...</td>\n      <td>...</td>\n      <td>1995-02-10</td>\n      <td>76578911.0</td>\n      <td>106.0</td>\n      <td>[{'iso_639_1': 'en', 'name': 'English'}]</td>\n      <td>Released</td>\n      <td>Just When His World Is Back To Normal... He's ...</td>\n      <td>Father of the Bride Part II</td>\n      <td>False</td>\n      <td>5.7</td>\n      <td>173.0</td>\n    </tr>\n  </tbody>\n</table>\n<p>5 rows × 24 columns</p>\n</div>"
     },
     "metadata": {},
     "execution_count": 12
    }
   ],
   "source": [
    "data = pd.read_csv(metadata)\n",
    "data.head()"
   ]
  },
  {
   "cell_type": "code",
   "execution_count": 5,
   "metadata": {},
   "outputs": [
    {
     "output_type": "stream",
     "name": "stdout",
     "text": [
      "<class 'pandas.core.frame.DataFrame'>\nRangeIndex: 45466 entries, 0 to 45465\nData columns (total 24 columns):\n #   Column                 Non-Null Count  Dtype  \n---  ------                 --------------  -----  \n 0   adult                  45466 non-null  object \n 1   belongs_to_collection  4494 non-null   object \n 2   budget                 45466 non-null  object \n 3   genres                 45466 non-null  object \n 4   homepage               7782 non-null   object \n 5   id                     45466 non-null  object \n 6   imdb_id                45449 non-null  object \n 7   original_language      45455 non-null  object \n 8   original_title         45466 non-null  object \n 9   overview               44512 non-null  object \n 10  popularity             45461 non-null  object \n 11  poster_path            45080 non-null  object \n 12  production_companies   45463 non-null  object \n 13  production_countries   45463 non-null  object \n 14  release_date           45379 non-null  object \n 15  revenue                45460 non-null  float64\n 16  runtime                45203 non-null  float64\n 17  spoken_languages       45460 non-null  object \n 18  status                 45379 non-null  object \n 19  tagline                20412 non-null  object \n 20  title                  45460 non-null  object \n 21  video                  45460 non-null  object \n 22  vote_average           45460 non-null  float64\n 23  vote_count             45460 non-null  float64\ndtypes: float64(4), object(20)\nmemory usage: 8.3+ MB\n"
     ]
    }
   ],
   "source": [
    "data.info()"
   ]
  },
  {
   "cell_type": "code",
   "execution_count": 164,
   "metadata": {},
   "outputs": [
    {
     "output_type": "stream",
     "name": "stdout",
     "text": [
      "test sample: [['led', 'by', 'woody,', \"andy's\", 'toys', 'live', 'happily', 'his', 'room', 'until', \"andy's\", 'birthday', 'brings', 'buzz', 'lightyear', 'onto', 'scene.', 'afraid', 'losing', 'his', 'place', \"andy's\", 'heart,', 'woody', 'plots', 'against', 'buzz.', 'but', 'when', 'circumstances', 'separate', 'buzz', 'woody', 'from', 'their', 'owner,', 'duo', 'eventually', 'learns', 'put', 'aside', 'their', 'differences']]\n"
     ]
    }
   ],
   "source": [
    "# Infer a vector for a new doc\n",
    "test = [\"Led by Woody, Andy's toys live happily in his room until Andy's birthday brings Buzz Lightyear onto the scene. Afraid of losing his place in Andy's heart, Woody plots against Buzz. But when circumstances separate Buzz and Woody from their owner, the duo eventually learns to put aside their differences\"]\n",
    "texts = [[word for word in document.lower().split() if word not in stoplist]\n",
    "         for document in test]\n",
    "print(f\"test sample: {texts}\")\n",
    "vector = model.infer_vector(texts[0])\n",
    "print(f\"vector: {vector}\")"
   ]
  },
  {
   "cell_type": "code",
   "execution_count": 162,
   "metadata": {},
   "outputs": [
    {
     "output_type": "stream",
     "name": "stdout",
     "text": [
      "Number of sentence: 45463\n"
     ]
    },
    {
     "output_type": "execute_result",
     "data": {
      "text/plain": [
       "[\"Led by Woody, Andy's toys live happily in his room until Andy's birthday brings Buzz Lightyear onto the scene. Afraid of losing his place in Andy's heart, Woody plots against Buzz. But when circumstances separate Buzz and Woody from their owner, the duo eventually learns to put aside their differences.\",\n",
       " \"When siblings Judy and Peter discover an enchanted board game that opens the door to a magical world, they unwittingly invite Alan -- an adult who's been trapped inside the game for 26 years -- into their living room. Alan's only hope for freedom is to finish the game, which proves risky as all three find themselves running from giant rhinoceroses, evil monkeys and other terrifying creatures.\"]"
      ]
     },
     "metadata": {},
     "execution_count": 162
    }
   ],
   "source": [
    "overview_sentences = data['overview'].astype(str)\n",
    "mId = data['mId'].astype(int)\n",
    "print(\"Number of sentence: %d\"%(len(overview_sentences)) )\n",
    "type(overview_sentence)\n",
    "overview_sentence[:2]"
   ]
  },
  {
   "cell_type": "code",
   "execution_count": 163,
   "metadata": {
    "tags": []
   },
   "outputs": [
    {
     "output_type": "stream",
     "name": "stdout",
     "text": [
      "[['led', 'by', 'woody,', \"andy's\", 'toys', 'live', 'happily', 'his', 'room', 'until', \"andy's\", 'birthday', 'brings', 'buzz', 'lightyear', 'onto', 'scene.', 'afraid', 'losing', 'his', 'place', \"andy's\", 'heart,', 'woody', 'plots', 'against', 'buzz.', 'but', 'when', 'circumstances', 'separate', 'buzz', 'woody', 'from', 'their', 'owner,', 'duo', 'eventually', 'learns', 'put', 'aside', 'their', 'differences.']]\n"
     ]
    },
    {
     "output_type": "error",
     "ename": "ModuleNotFoundError",
     "evalue": "No module named 'gensim'",
     "traceback": [
      "\u001b[1;31m---------------------------------------------------------------------------\u001b[0m",
      "\u001b[1;31mModuleNotFoundError\u001b[0m                       Traceback (most recent call last)",
      "\u001b[1;32m<ipython-input-163-57b2d7c4fd23>\u001b[0m in \u001b[0;36m<module>\u001b[1;34m\u001b[0m\n\u001b[0;32m     17\u001b[0m \u001b[1;31m# pprint.pprint(processed_corpus)\u001b[0m\u001b[1;33m\u001b[0m\u001b[1;33m\u001b[0m\u001b[1;33m\u001b[0m\u001b[0m\n\u001b[0;32m     18\u001b[0m \u001b[1;33m\u001b[0m\u001b[0m\n\u001b[1;32m---> 19\u001b[1;33m \u001b[1;32mfrom\u001b[0m \u001b[0mgensim\u001b[0m\u001b[1;33m.\u001b[0m\u001b[0mtest\u001b[0m\u001b[1;33m.\u001b[0m\u001b[0mutils\u001b[0m \u001b[1;32mimport\u001b[0m \u001b[0mcommon_texts\u001b[0m\u001b[1;33m\u001b[0m\u001b[1;33m\u001b[0m\u001b[0m\n\u001b[0m\u001b[0;32m     20\u001b[0m \u001b[1;32mfrom\u001b[0m \u001b[0mgensim\u001b[0m\u001b[1;33m.\u001b[0m\u001b[0mmodels\u001b[0m\u001b[1;33m.\u001b[0m\u001b[0mdoc2vec\u001b[0m \u001b[1;32mimport\u001b[0m \u001b[0mDoc2Vec\u001b[0m\u001b[1;33m,\u001b[0m \u001b[0mTaggedDocument\u001b[0m\u001b[1;33m\u001b[0m\u001b[1;33m\u001b[0m\u001b[0m\n\u001b[0;32m     21\u001b[0m \u001b[0mdocuments\u001b[0m \u001b[1;33m=\u001b[0m \u001b[1;33m[\u001b[0m\u001b[0mTaggedDocument\u001b[0m\u001b[1;33m(\u001b[0m\u001b[0mtexts\u001b[0m\u001b[1;33m[\u001b[0m\u001b[0mi\u001b[0m\u001b[1;33m]\u001b[0m\u001b[1;33m,\u001b[0m \u001b[1;33m[\u001b[0m\u001b[0mmId\u001b[0m\u001b[1;33m[\u001b[0m\u001b[0mi\u001b[0m\u001b[1;33m]\u001b[0m\u001b[1;33m]\u001b[0m\u001b[1;33m)\u001b[0m \u001b[1;32mfor\u001b[0m \u001b[0mi\u001b[0m \u001b[1;32min\u001b[0m \u001b[0mrange\u001b[0m\u001b[1;33m(\u001b[0m\u001b[0mlen\u001b[0m\u001b[1;33m(\u001b[0m\u001b[0mtexts\u001b[0m\u001b[1;33m)\u001b[0m\u001b[1;33m)\u001b[0m\u001b[1;33m]\u001b[0m \u001b[1;31m# You need the [] for mId[i], because both input need to be iterable, e.g., str, list, dict\u001b[0m\u001b[1;33m\u001b[0m\u001b[1;33m\u001b[0m\u001b[0m\n",
      "\u001b[1;31mModuleNotFoundError\u001b[0m: No module named 'gensim'"
     ]
    }
   ],
   "source": [
    "import pprint\n",
    "# Some preprocessing\n",
    "stoplist = set('for a of the and to in'.split(' '))\n",
    "texts = [[word for word in document.lower().split() if word not in stoplist]\n",
    "         for document in overview_sentences]\n",
    "print(texts[:1])\n",
    "\n",
    "# Count word frequencies\n",
    "from collections import defaultdict\n",
    "frequency = defaultdict(int)\n",
    "for text in texts:\n",
    "    for token in text:\n",
    "        frequency[token] += 1\n",
    "\n",
    "# Only keep words that appear more than once\n",
    "processed_corpus = [[token for token in text if frequency[token] > 1] for text in texts]\n",
    "# pprint.pprint(processed_corpus)\n",
    "\n",
    "from gensim.test.utils import common_texts\n",
    "from gensim.models.doc2vec import Doc2Vec, TaggedDocument\n",
    "documents = [TaggedDocument(texts[i], [mId[i]]) for i in range(len(texts))] # You need the [] for mId[i], because both input need to be iterable, e.g., str, list, dict\n",
    "print(type(documents))\n",
    "print(f\"Shape of document: {len(documents)}\")\n",
    "print(f\"Sample of documents: {documents[:2]}\")\n",
    "model = Doc2Vec(iter(documents), vector_size=5, window=2, min_count=1, workers=4)\n"
   ]
  },
  {
   "cell_type": "code",
   "execution_count": null,
   "metadata": {},
   "outputs": [],
   "source": [
    "# # Parsing the overview sentences\n",
    "overview_sentences = []\n",
    "for overview_sentences, mId in zip(overview_sentences, mId):\n",
    "    print(overview_sentences)\n",
    "    # overview_sentences.append(item)\n"
   ]
  },
  {
   "cell_type": "code",
   "execution_count": null,
   "metadata": {
    "tags": []
   },
   "outputs": [],
   "source": [
    "# Tokenize the sentences\n",
    "import tensorflow as tf\n",
    "from tensorflow.keras.preprocessing.text import Tokenizer\n",
    "from tensorflow.keras.preprocessing.sequence import pad_sequences\n",
    "\n",
    "vocab_size = 10000 # Size of word corpus\n",
    "embedding_dim = 16 # dimension of output vector\n",
    "max_length = 32 # Maximum length of token\n",
    "trunc_type = 'post'\n",
    "padding_type = 'post'\n",
    "oov_tok = '<ooV>'\n",
    "data_size = data.shape[0] # Size of training dataset\n",
    "\n",
    "tokenizer = Tokenizer(num_words=vocab_size, oov_token=oov_tok)\n",
    "tokenizer.fit_on_texts(overview_sentences)\n",
    "word_index = tokenizer.word_index\n",
    "# print(word_index)\n",
    "overview_sequences = tokenizer.texts_to_sequences(overview_sentences)\n",
    "overview_padded = pad_sequences(overview_sequences, maxlen=max_length, padding=padding_type, truncating=trunc_type)\n",
    "# print(\"\\nWord Index = \" , word_index)\n",
    "# print(f\"Sequences[:3]: {overview_sentence[:3]}\")\n",
    "print(\"Padded Sequences:\")\n",
    "print(overview_padded[:, :3])\n",
    "print(overview_padded.shape)\n"
   ]
  },
  {
   "cell_type": "code",
   "execution_count": null,
   "metadata": {},
   "outputs": [],
   "source": [
    "overview_sequences1 = tokenizer.texts_to_matrix(overview_sentences, mode='binary')"
   ]
  },
  {
   "cell_type": "code",
   "execution_count": null,
   "metadata": {},
   "outputs": [],
   "source": [
    "print(\"Padded Sequences:\")\n",
    "print(overview_sequences1[:, :3])\n",
    "print(overview_sequences1.shape)"
   ]
  },
  {
   "cell_type": "code",
   "execution_count": null,
   "metadata": {},
   "outputs": [],
   "source": [
    "import \n"
   ]
  },
  {
   "cell_type": "code",
   "execution_count": null,
   "metadata": {},
   "outputs": [],
   "source": []
  },
  {
   "cell_type": "code",
   "execution_count": null,
   "metadata": {},
   "outputs": [],
   "source": [
    "x1 = np.arange(10)\n",
    "x2 = x1*2\n",
    "y = x1*2\n",
    "y"
   ]
  },
  {
   "cell_type": "code",
   "execution_count": null,
   "metadata": {},
   "outputs": [],
   "source": [
    "import matplotlib.pyplot as plt\n",
    "import numpy as np\n",
    "x1 = np.arange(10)\n",
    "x2 = x1*2\n",
    "y = x1*2\n",
    "\n",
    "plt.figure(figsize=(12.2, 4.5)) # width=12.2in, height=4.5in\n",
    "plt.scatter(x1, y, color='green', label='Line1')\n",
    "plt.scatter(x2, y, color='red', label='Line2')\n",
    "plt.plot(x1, y, alpha=0.35) #\tPlot y versus x as lines and/or markers.\n",
    "plt.xticks(rotation=45)\n",
    "plt.title(label='Title of this figure')\n",
    "plt.xlabel('X label', fontsize=18)\n",
    "plt.ylabel('Y label', fontsize=18)\n",
    "plt.legend(loc='best')\n",
    "plt.show()\n"
   ]
  },
  {
   "cell_type": "code",
   "execution_count": null,
   "metadata": {},
   "outputs": [],
   "source": [
    "import numpy as np\n",
    "import matplotlib.pyplot as plt\n",
    "data = [[30, 25, 50, 20],\n",
    "[40, 23, 51, 17],\n",
    "[35, 22, 45, 19]]\n",
    "X = ['2011', '2012', '2013', '2014']\n",
    "fig = plt.figure()\n",
    "# ax = fig.add_axes([0,0,1,1])\n",
    "ax.bar(X, data[0], color = 'b', width = 0.25)\n",
    "ax.bar(X, data[1], color = 'g', width = 0.25)\n",
    "ax.bar(X, data[2], color = 'r', width = 0.25)"
   ]
  },
  {
   "cell_type": "code",
   "execution_count": null,
   "metadata": {},
   "outputs": [],
   "source": [
    "import numpy as np\n",
    "import pandas as pd\n",
    "import matplotlib.pyplot as plt\n",
    "# df = pd.DataFrame(np.array([[94.13, 94.01], [44.91, 43.97]]),\n",
    "#     index = [\"Fashion MNIST\", \"Cifar100\"],\n",
    "#     columns=pd.Index(['GPU',' CPU'], name='Device')\n",
    "# )\n",
    "df = pd.DataFrame({'GPU': [94.01, 43.97],\n",
    "        'CPU': [94.01, 44.91]},\n",
    "        index=[\"Fashion MNIST\", \"Cifar100\"]\n",
    ")\n",
    "\n",
    "df.plot.bar(xlabel='dataset', ylabel='Acc(%)', title='DNN Model1: Flatten()-->Dense(128)-->Dense(10)', rot=30)\n",
    "\n",
    "# acc = [[94.13, 94.01], [44.91, 43.97]] # CPU acc and GPU acc for Fashion MNIST and Cifar100\n",
    "# time = [[2.812, 2.871], [1.1, 2.2]]\n",
    "# X = np.arange(4)\n",
    "# fig = plt.figure()\n",
    "# ax = fig.add_axes([0,0,1,1])\n",
    "# ax.bar(X + 0.00, data[0], color = 'b', width = 0.25)\n",
    "# ax.bar(X + 0.25, data[1], color = 'g', width = 0.25)"
   ]
  },
  {
   "cell_type": "code",
   "execution_count": null,
   "metadata": {},
   "outputs": [],
   "source": [
    "df = pd.DataFrame({'GPU': [95.5, 89.06],\n",
    "        'CPU': [96.77, 88.61]},\n",
    "        index=[\"Fashion MNIST\", \"Cifar100\"]\n",
    ")\n",
    "\n",
    "df.plot.bar(xlabel='dataset', ylabel='Acc(%)', title='DNN Model2: Con2D(32)-->Conv2D(64)-->Flatten()-->Dense(128)-->Dense(10)', rot=30)\n"
   ]
  },
  {
   "cell_type": "code",
   "execution_count": null,
   "metadata": {},
   "outputs": [],
   "source": [
    "df = pd.DataFrame({'GPU': [2.871, 2.2],\n",
    "        'CPU': [2.812, 1.1]},\n",
    "        index=[\"Fashion MNIST\", \"Cifar100\"]\n",
    ")\n",
    "\n",
    "df.plot.bar(xlabel='dataset', ylabel='Time(sec/epoch)', title='DNN Model1: Flatten()-->Dense(128)-->Dense(10)', rot=30)"
   ]
  },
  {
   "cell_type": "code",
   "execution_count": null,
   "metadata": {},
   "outputs": [],
   "source": [
    "df = pd.DataFrame({'GPU': [4.2, 3.3],\n",
    "        'CPU': [14.7, 11.9]},\n",
    "        index=[\"Fashion MNIST\", \"Cifar100\"]\n",
    ")\n",
    "\n",
    "df.plot.bar(xlabel='dataset', ylabel='Time(sec/epoch)', title='DNN Model2: Con2D(32)-->Conv2D(64)-->Flatten()-->Dense(128)-->Dense(10)', rot=30)\n"
   ]
  },
  {
   "cell_type": "code",
   "execution_count": null,
   "metadata": {},
   "outputs": [],
   "source": [
    "df = pd.DataFrame({'GPU': [3022, 3429],\n",
    "        'CPU': [23679, 9526]},\n",
    "        index=[\"VGG19\", \"ResNet50\"]\n",
    ")\n",
    "\n",
    "df.plot.bar(xlabel='DNN Model', ylabel='Time(sec/epoch)', title='What is the Best DNN model for IMDB-Wiki  Dataset(on similar ACC)', rot=30)\n"
   ]
  },
  {
   "cell_type": "code",
   "execution_count": null,
   "metadata": {},
   "outputs": [],
   "source": [
    "df = pd.DataFrame({'Time(sec/epoch)': [184, 99, 72, 78, 67],\n",
    "        'Throughput(sec/step)': [2, 0.988, 0.719, 0.779, 0.668]},\n",
    "        index=[2, 4, 8, 16, 28]\n",
    ")\n",
    "\n",
    "df.plot.bar(xlabel='Cores', ylabel='Time(sec)', title='ResNet50 on IMDB-Wiki Dataest(on CPU and batch_size=32)', rot=30, subplots=True)\n"
   ]
  },
  {
   "cell_type": "code",
   "execution_count": null,
   "metadata": {},
   "outputs": [],
   "source": [
    "df = pd.DataFrame({'Time(sec/epoch)': [8, 10, 37, 72, 74, 361],\n",
    "        # 'Throughput(step/ms)': [84, 95, 374, 715, 737, 4000]},\n",
    "        'Throughput(sec/step)': [0.084, 0.095, 0.374, 0.715, 0.737, 4]},\n",
    "        index=[2, 4, 8, 16, 32, 64]\n",
    ")\n",
    "\n",
    "df.plot.bar(xlabel='Batch size', ylabel='Time(sec)', title='ResNet50 on IMDB-Wiki Dataest(on GPU and cores=28)', rot=30, subplots=True)\n"
   ]
  },
  {
   "cell_type": "code",
   "execution_count": null,
   "metadata": {},
   "outputs": [],
   "source": []
  }
 ]
}