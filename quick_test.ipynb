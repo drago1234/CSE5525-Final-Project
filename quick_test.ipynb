{
 "metadata": {
  "language_info": {
   "codemirror_mode": {
    "name": "ipython",
    "version": 3
   },
   "file_extension": ".py",
   "mimetype": "text/x-python",
   "name": "python",
   "nbconvert_exporter": "python",
   "pygments_lexer": "ipython3",
   "version": "3.7.4-final"
  },
  "orig_nbformat": 2,
  "kernelspec": {
   "name": "python3",
   "display_name": "Python 3"
  }
 },
 "nbformat": 4,
 "nbformat_minor": 2,
 "cells": [
  {
   "cell_type": "code",
   "execution_count": 2,
   "metadata": {},
   "outputs": [],
   "source": [
    "from argparse import ArgumentParser, ArgumentDefaultsHelpFormatter\n",
    "import pandas as pd\n",
    "import numpy as np\n",
    "import json\n",
    "import ast\n",
    "from sklearn.model_selection import train_test_split\n",
    "\n",
    "from utils import Indexer\n",
    "\n",
    "from tqdm import tqdm"
   ]
  },
  {
   "cell_type": "code",
   "execution_count": 17,
   "metadata": {},
   "outputs": [],
   "source": [
    "links = 'data/links.csv'\n",
    "metadata = 'data/movies_metadata.csv'\n",
    "credit = 'data/credits.csv'\n",
    "rating = 'data/ratings.csv'\n",
    "\n",
    "train_dir = 'processed_data/rating_train.csv'\n",
    "test_dir = 'processed_data/rating_test.csv'\n",
    "\n",
    "overview = 'processed_data/overviews.csv'\n",
    "\n"
   ]
  },
  {
   "cell_type": "code",
   "execution_count": 22,
   "metadata": {},
   "outputs": [
    {
     "output_type": "execute_result",
     "data": {
      "text/plain": [
       "   mId                                           overview\n",
       "0    0  Led by Woody, Andy's toys live happily in his ...\n",
       "1    1  When siblings Judy and Peter discover an encha...\n",
       "2    2  A family wedding reignites the ancient feud be...\n",
       "3    3  Cheated on, mistreated and stepped on, the wom...\n",
       "4    4  Just when George Banks has recovered from his ..."
      ],
      "text/html": "<div>\n<style scoped>\n    .dataframe tbody tr th:only-of-type {\n        vertical-align: middle;\n    }\n\n    .dataframe tbody tr th {\n        vertical-align: top;\n    }\n\n    .dataframe thead th {\n        text-align: right;\n    }\n</style>\n<table border=\"1\" class=\"dataframe\">\n  <thead>\n    <tr style=\"text-align: right;\">\n      <th></th>\n      <th>mId</th>\n      <th>overview</th>\n    </tr>\n  </thead>\n  <tbody>\n    <tr>\n      <th>0</th>\n      <td>0</td>\n      <td>Led by Woody, Andy's toys live happily in his ...</td>\n    </tr>\n    <tr>\n      <th>1</th>\n      <td>1</td>\n      <td>When siblings Judy and Peter discover an encha...</td>\n    </tr>\n    <tr>\n      <th>2</th>\n      <td>2</td>\n      <td>A family wedding reignites the ancient feud be...</td>\n    </tr>\n    <tr>\n      <th>3</th>\n      <td>3</td>\n      <td>Cheated on, mistreated and stepped on, the wom...</td>\n    </tr>\n    <tr>\n      <th>4</th>\n      <td>4</td>\n      <td>Just when George Banks has recovered from his ...</td>\n    </tr>\n  </tbody>\n</table>\n</div>"
     },
     "metadata": {},
     "execution_count": 22
    }
   ],
   "source": [
    "data = pd.read_csv(overview)\n",
    "data.head()"
   ]
  },
  {
   "cell_type": "code",
   "execution_count": 45,
   "metadata": {},
   "outputs": [
    {
     "output_type": "stream",
     "name": "stdout",
     "text": [
      "Number of sentence: 45463\n"
     ]
    },
    {
     "output_type": "execute_result",
     "data": {
      "text/plain": [
       "list"
      ]
     },
     "metadata": {},
     "execution_count": 45
    }
   ],
   "source": [
    "overview_sentences = data['overview'].astype(str)\n",
    "print(\"Number of sentence: %d\"%(len(overview_sentences)) )\n",
    "type(overview_sentence)\n",
    "# overview_sentence[1]"
   ]
  },
  {
   "cell_type": "code",
   "execution_count": 41,
   "metadata": {},
   "outputs": [],
   "source": [
    "# # Parsing the overview sentences\n",
    "# overview_sentences = []\n",
    "# for item in overview_sentence:\n",
    "#     overview_sentences.append(item)\n"
   ]
  },
  {
   "cell_type": "code",
   "execution_count": 52,
   "metadata": {
    "tags": []
   },
   "outputs": [
    {
     "output_type": "stream",
     "name": "stdout",
     "text": [
      "Sequences[:3]: [\"Led by Woody, Andy's toys live happily in his room until Andy's birthday brings Buzz Lightyear onto the scene. Afraid of losing his place in Andy's heart, Woody plots against Buzz. But when circumstances separate Buzz and Woody from their owner, the duo eventually learns to put aside their differences.\", \"When siblings Judy and Peter discover an enchanted board game that opens the door to a magical world, they unwittingly invite Alan -- an adult who's been trapped inside the game for 26 years -- into their living room. Alan's only hope for freedom is to finish the game, which proves risky as all three find themselves running from giant rhinoceroses, evil monkeys and other terrifying creatures.\", \"A family wedding reignites the ancient feud between next-door neighbors and fishing buddies John and Max. Meanwhile, a sultry Italian divorcée opens a restaurant at the local bait shop, alarming the locals who worry she'll scare the fish away. But she's less interested in seafood than she is in cooking up a hot time with Max.\"]\nPadded Sequences:\n[[ 532   16 6011]\n [  23 2682 5270]\n [   3   48  593]\n ...\n [  23   31    6]\n [   7    3  123]\n [1870   60   37]]\n(45463, 32)\n"
     ]
    }
   ],
   "source": [
    "# Tokenize the sentences\n",
    "import tensorflow as tf\n",
    "from tensorflow.keras.preprocessing.text import Tokenizer\n",
    "from tensorflow.keras.preprocessing.sequence import pad_sequences\n",
    "\n",
    "vocab_size = 10000 # Size of word corpus\n",
    "embedding_dim = 16 # dimension of output vector\n",
    "max_length = 32 # Maximum length of token\n",
    "trunc_type = 'post'\n",
    "padding_type = 'post'\n",
    "oov_tok = '<ooV>'\n",
    "data_size = data.shape[0] # Size of training dataset\n",
    "\n",
    "tokenizer = Tokenizer(num_words=vocab_size, oov_token=oov_tok)\n",
    "tokenizer.fit_on_texts(overview_sentences)\n",
    "word_index = tokenizer.word_index\n",
    "# print(word_index)\n",
    "overview_sequences = tokenizer.texts_to_sequences(overview_sentences)\n",
    "overview_padded = pad_sequences(overview_sequences, maxlen=max_length, padding=padding_type, truncating=trunc_type)\n",
    "# print(\"\\nWord Index = \" , word_index)\n",
    "print(f\"Sequences[:3]: {overview_sentence[:3]}\")\n",
    "print(\"Padded Sequences:\")\n",
    "print(overview_padded[:, :3])\n",
    "print(overview_padded.shape)\n"
   ]
  },
  {
   "cell_type": "code",
   "execution_count": 48,
   "metadata": {},
   "outputs": [
    {
     "output_type": "stream",
     "name": "stdout",
     "text": [
      "Padded Sequences:\n[[ 532   16 6011    1 3454]\n [  23 2682 5270    4  664]\n [   3   48  593    1    2]\n ...\n [  23   31    6   11 1529]\n [   7    3  123   82  155]\n [1870   60   37    1    6]]\n(45463, 32)\n"
     ]
    }
   ],
   "source": [
    "print(\"Padded Sequences:\")\n",
    "print(overview_padded[:, :5])\n",
    "print(overview_padded.shape)"
   ]
  },
  {
   "cell_type": "code",
   "execution_count": null,
   "metadata": {},
   "outputs": [],
   "source": []
  }
 ]
}